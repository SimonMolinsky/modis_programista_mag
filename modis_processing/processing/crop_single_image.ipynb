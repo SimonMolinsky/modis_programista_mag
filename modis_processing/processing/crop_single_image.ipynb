{
 "cells": [
  {
   "cell_type": "code",
   "execution_count": null,
   "metadata": {},
   "outputs": [],
   "source": [
    "%matplotlib inline\n",
    "\n",
    "import numpy as np\n",
    "import subprocess\n",
    "from osgeo import gdal\n",
    "import matplotlib.pyplot as plt"
   ]
  },
  {
   "cell_type": "code",
   "execution_count": null,
   "metadata": {},
   "outputs": [],
   "source": [
    "test_image = 'raw/MOD11B3.A2000153.h19v03.006.2015160142129.hdf'\n",
    "vector = 'vector/warszawa.shp'\n",
    "lst_output = 'test_lst.tiff'\n",
    "\n",
    "# Read image and process it\n",
    "\n",
    "dataset = gdal.Open(test_image)\n",
    "subdatasets = dataset.GetSubDatasets()\n",
    "del dataset\n",
    "\n",
    "lst_day = subdatasets[0][0]\n",
    "subprocess.call(['gdalwarp',\n",
    "                 '-cutline',\n",
    "                 vector,\n",
    "                 '-crop_to_cutline',\n",
    "                 '-dstalpha',\n",
    "                 lst_day,\n",
    "                 lst_output])\n",
    "del lst_day"
   ]
  },
  {
   "cell_type": "code",
   "execution_count": null,
   "metadata": {},
   "outputs": [],
   "source": [
    "# Check output\n",
    "scaling_factor = 0.02\n",
    "lst_day = gdal.Open(lst_output)\n",
    "array_lst_day = (lst_day.ReadAsArray().astype(np.float32))[0] * scaling_factor\n",
    "del lst_day\n",
    "\n",
    "celsius_lst_day = array_lst_day - 273.15\n",
    "celsius_lst_day[celsius_lst_day < 0] = np.nan\n",
    "\n",
    "plt.figure(figsize=(10,10))\n",
    "imgplot = plt.imshow(celsius_lst_day)\n",
    "imgplot.set_cmap('plasma')\n",
    "plt.colorbar()\n",
    "plt.title('LST daytime for Warsaw')\n",
    "plt.show()"
   ]
  }
 ],
 "metadata": {
  "kernelspec": {
   "display_name": "Python 3",
   "language": "python",
   "name": "python3"
  },
  "language_info": {
   "codemirror_mode": {
    "name": "ipython",
    "version": 3
   },
   "file_extension": ".py",
   "mimetype": "text/x-python",
   "name": "python",
   "nbconvert_exporter": "python",
   "pygments_lexer": "ipython3",
   "version": "3.7.3"
  }
 },
 "nbformat": 4,
 "nbformat_minor": 2
}
