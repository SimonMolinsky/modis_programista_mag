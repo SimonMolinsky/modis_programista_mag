{
 "cells": [
  {
   "cell_type": "code",
   "execution_count": null,
   "metadata": {},
   "outputs": [],
   "source": [
    "%matplotlib inline\n",
    "\n",
    "import numpy as np\n",
    "import pandas as pd\n",
    "import seaborn as sns\n",
    "import matplotlib.pyplot as plt\n",
    "sns.set_style(\"darkgrid\")"
   ]
  },
  {
   "cell_type": "code",
   "execution_count": null,
   "metadata": {},
   "outputs": [],
   "source": [
    "# Read JSON file with the data and show it as a dataframe\n",
    "\n",
    "base_temperatures = pd.read_json('input_data/temperature_modis.json')\n",
    "base_temperatures.sort_index(inplace=True)\n",
    "temperatures = base_temperatures.copy()\n",
    "base_temperatures.head()"
   ]
  },
  {
   "cell_type": "code",
   "execution_count": null,
   "metadata": {},
   "outputs": [],
   "source": [
    "# Add month and year column and prepare data visualization\n",
    "\n",
    "temperatures['month'] = temperatures.index.month\n",
    "temperatures['year'] = temperatures.index.year\n",
    "temperatures.head()"
   ]
  },
  {
   "cell_type": "code",
   "execution_count": null,
   "metadata": {},
   "outputs": [],
   "source": [
    "# Plot temperature values over time\n",
    "\n",
    "def celsius(k):\n",
    "    c = k - 273.15\n",
    "    return c\n",
    "\n",
    "t_day = temperatures.pivot(\"month\", \"year\", \"lst_day\")\n",
    "t_day = t_day.apply(lambda x: celsius(x))\n",
    "t_night = temperatures.pivot(\"month\", \"year\", \"lst_night\")\n",
    "t_night = t_night.apply(lambda x: celsius(x))"
   ]
  },
  {
   "cell_type": "code",
   "execution_count": null,
   "metadata": {},
   "outputs": [],
   "source": [
    "f1, (ax_day, ax_night) = plt.subplots(nrows=1, ncols=2, figsize=(12, 4))\n",
    "sns.heatmap(t_day, linewidths=.5, ax=ax_day)\n",
    "ax_day.set_title('mean daily temperatures')\n",
    "sns.heatmap(t_night, linewidths=.5, ax=ax_night)\n",
    "ax_night.set_title('mean night temperatures')\n",
    "plt.show()"
   ]
  },
  {
   "cell_type": "code",
   "execution_count": null,
   "metadata": {},
   "outputs": [],
   "source": [
    "# Plot temperatures against the mean temperature for a given month over the years\n",
    "\n",
    "t_day_means = t_day[[2000, 2001, 2002, 2003, 2004]].mean(axis=1, skipna=True)\n",
    "t_night_means = t_night[[2000, 2001, 2002, 2003, 2004]].mean(axis=1, skipna=True)"
   ]
  },
  {
   "cell_type": "code",
   "execution_count": null,
   "metadata": {},
   "outputs": [],
   "source": [
    "t_day_normalized = t_day.subtract(t_day_means, axis=0)\n",
    "t_night_normalized = t_night.subtract(t_night_means, axis=0)"
   ]
  },
  {
   "cell_type": "code",
   "execution_count": null,
   "metadata": {},
   "outputs": [],
   "source": [
    "f1, (ax_day, ax_night) = plt.subplots(nrows=1, ncols=2, figsize=(12, 4))\n",
    "sns.heatmap(t_day_normalized, linewidths=.5, ax=ax_day, cmap=\"coolwarm\")\n",
    "ax_day.set_title('Normalized temperature index (day)')\n",
    "sns.heatmap(t_night_normalized, linewidths=.5, ax=ax_night, cmap=\"coolwarm\")\n",
    "ax_night.set_title('Normalized temperature index (night)')\n",
    "plt.show()"
   ]
  },
  {
   "cell_type": "code",
   "execution_count": null,
   "metadata": {},
   "outputs": [],
   "source": [
    "# Show boxplot of the temperatures over a measured period of time...\n",
    "\n",
    "temp_series = temperatures.melt(id_vars=['year'], value_vars=['lst_day', 'lst_night'])\n",
    "plt.figure(figsize=(20, 10))\n",
    "ax_boxplot = sns.boxplot(data = temp_series,\n",
    "                        x = 'year',\n",
    "                        y = 'value',\n",
    "                        hue = 'variable',\n",
    "                        palette = ['red', 'blue'])\n",
    "plt.show()"
   ]
  },
  {
   "cell_type": "code",
   "execution_count": null,
   "metadata": {},
   "outputs": [],
   "source": [
    "# ...and the lineplot\n",
    "\n",
    "plt.figure(figsize=(20, 10))\n",
    "ax_lineplot = sns.lineplot(data = temp_series,\n",
    "                           x = 'year',\n",
    "                           y = 'value',\n",
    "                           hue = 'variable',\n",
    "                           palette = ['red', 'blue'])\n",
    "plt.show()"
   ]
  },
  {
   "cell_type": "code",
   "execution_count": null,
   "metadata": {},
   "outputs": [],
   "source": [
    "# Calculate trend in the data\n",
    "\n",
    "def trend(time_series, order=1):\n",
    "    coeffs = np.polyfit(time_series.index.values, list(time_series), order)\n",
    "    slope = coeffs[0]\n",
    "    return float(slope)\n",
    "\n",
    "series_day = temp_series[temp_series.variable == 'lst_day'].groupby(by='year')['value'].mean()\n",
    "series_night = temp_series[temp_series.variable == 'lst_night'].groupby(by='year')['value'].mean()\n",
    "\n",
    "day_trend = trend(series_day)\n",
    "night_trend = trend(series_night)\n",
    "\n",
    "print(day_trend, night_trend)"
   ]
  },
  {
   "cell_type": "code",
   "execution_count": null,
   "metadata": {},
   "outputs": [],
   "source": [
    "# Missing values problem\n",
    "\n",
    "# Solution one: use only months with known values, e.g. from February to July or from one season\n",
    "\n",
    "t_day_dropped = t_day.drop([1, 8, 9, 10, 11, 12])\n",
    "f, ax = plt.subplots(figsize=(10, 10))\n",
    "sns.heatmap(t_day_dropped, annot=True, linewidths=.5, ax=ax, cmap=\"coolwarm\")\n",
    "ax.set_title('Mean daily temperatures from February to July')\n",
    "plt.show()"
   ]
  },
  {
   "cell_type": "code",
   "execution_count": null,
   "metadata": {},
   "outputs": [],
   "source": [
    "series_day_dropped = t_day_dropped.mean()\n",
    "t_night_dropped = t_night.drop([1, 8, 9, 10, 11, 12])\n",
    "series_night_dropped = t_night_dropped.mean()\n",
    "print(trend(series_day_dropped), trend(series_night_dropped))"
   ]
  },
  {
   "cell_type": "code",
   "execution_count": null,
   "metadata": {},
   "outputs": [],
   "source": [
    "# Solution two: missing values as a linear interpolation of the known values\n",
    "\n",
    "interpolated_day = t_day.interpolate(axis=1, limit_direction='both')\n",
    "interpolated_night = t_night.interpolate(axis=1, limit_direction='both')\n",
    "f1, (ax_day, ax_night) = plt.subplots(nrows=1, ncols=2, figsize=(12, 4))\n",
    "sns.heatmap(interpolated_day, linewidths=.5, ax=ax_day)\n",
    "ax_day.set_title('Interpolated mean daily temperatures')\n",
    "sns.heatmap(interpolated_night, linewidths=.5, ax=ax_night)\n",
    "ax_night.set_title('Interpolated mean night temperatures')\n",
    "plt.show()"
   ]
  },
  {
   "cell_type": "code",
   "execution_count": null,
   "metadata": {},
   "outputs": [],
   "source": [
    "series_day_interpolated = interpolated_day.mean()\n",
    "series_night_interpolated = interpolated_night.mean()\n",
    "print(trend(series_day_interpolated), trend(series_night_interpolated))"
   ]
  },
  {
   "cell_type": "code",
   "execution_count": null,
   "metadata": {},
   "outputs": [],
   "source": [
    "# Summary statistics\n",
    "\n",
    "print('Trend of the base dataset:\\nDay: {},\\nNight: {}'.format(day_trend, night_trend))\n",
    "print('\\n')\n",
    "print('Trend of the months between February and July:\\nDay: {},\\nNight: {}'.format(\n",
    "    trend(series_day_dropped),\n",
    "    trend(series_night_dropped))\n",
    "     )\n",
    "print('\\n')\n",
    "print('Trend of the interpolated dataset:\\nDay: {},\\nNight: {}'.format(\n",
    "    trend(series_day_interpolated),\n",
    "    trend(series_night_interpolated))\n",
    "     )"
   ]
  },
  {
   "cell_type": "code",
   "execution_count": null,
   "metadata": {},
   "outputs": [],
   "source": [
    "# Last but not least: seasonal plot\n",
    "\n",
    "iday = interpolated_day.reset_index()\n",
    "iday_melted = iday.melt(id_vars='month', var_name='year', value_name='vals')\n",
    "iday_melted['year'] = pd.to_numeric(iday_melted['year'])\n",
    "\n",
    "f, ax = plt.subplots(figsize=(14, 9))\n",
    "sns.lineplot(x='month', y='vals', hue='year', data=iday_melted,\n",
    "             palette='BrBG', legend='full')\n",
    "ax.set_title('Seasonal plot of mean temperatures for a given month')\n",
    "plt.show()"
   ]
  },
  {
   "cell_type": "code",
   "execution_count": null,
   "metadata": {},
   "outputs": [],
   "source": []
  }
 ],
 "metadata": {
  "kernelspec": {
   "display_name": "Python 3",
   "language": "python",
   "name": "python3"
  },
  "language_info": {
   "codemirror_mode": {
    "name": "ipython",
    "version": 3
   },
   "file_extension": ".py",
   "mimetype": "text/x-python",
   "name": "python",
   "nbconvert_exporter": "python",
   "pygments_lexer": "ipython3",
   "version": "3.7.3"
  }
 },
 "nbformat": 4,
 "nbformat_minor": 2
}
