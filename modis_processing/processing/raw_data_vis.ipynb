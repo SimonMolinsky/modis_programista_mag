{
 "cells": [
  {
   "cell_type": "markdown",
   "metadata": {},
   "source": [
    "## Short introduction into gdal library and hdf files"
   ]
  },
  {
   "cell_type": "code",
   "execution_count": null,
   "metadata": {},
   "outputs": [],
   "source": [
    "%matplotlib inline\n",
    "import numpy as np\n",
    "from osgeo import gdal\n",
    "import matplotlib.pyplot as plt"
   ]
  },
  {
   "cell_type": "code",
   "execution_count": null,
   "metadata": {},
   "outputs": [],
   "source": [
    "# Read Data\n",
    "\n",
    "experimental_file = 'raw/MOD11B3.A2000153.h19v03.006.2015160142129.hdf'\n",
    "dataset = gdal.Open(experimental_file)\n",
    "subdatasets = dataset.GetSubDatasets()\n",
    "\n",
    "for subdataset in subdatasets:\n",
    "    print(subdataset[1])"
   ]
  },
  {
   "cell_type": "code",
   "execution_count": null,
   "metadata": {},
   "outputs": [],
   "source": [
    "scaling_factor = 0.02  # Const\n",
    "\n",
    "lst_day = gdal.Open(subdatasets[0][0])\n",
    "lst_night = gdal.Open(subdatasets[4][0])\n",
    "\n",
    "array_lst_day = lst_day.ReadAsArray().astype(np.float32) * scaling_factor\n",
    "array_lst_night = lst_night.ReadAsArray().astype(np.float32) * scaling_factor\n",
    "\n",
    "print('Max LST during the day:', np.max(array_lst_day))\n",
    "print('Max LST during the night:', np.max(array_lst_night))\n",
    "\n",
    "celsius_lst_day = array_lst_day - 273.15\n",
    "celsius_lst_day[celsius_lst_day < 0] = np.nan\n",
    "celsius_lst_night = array_lst_night - 273.15\n",
    "celsius_lst_night[celsius_lst_night < 0] = np.nan\n",
    "\n",
    "plt.figure(figsize=(10,10))\n",
    "imgplot = plt.imshow(celsius_lst_day)\n",
    "imgplot.set_cmap('plasma')\n",
    "plt.colorbar()\n",
    "plt.title('LST daytime')\n",
    "plt.show()\n",
    "\n",
    "plt.figure(figsize=(10,10))\n",
    "imgplot = plt.imshow(celsius_lst_night)\n",
    "imgplot.set_cmap('plasma')\n",
    "plt.colorbar()\n",
    "plt.title('LST nighttime')\n",
    "plt.show()"
   ]
  },
  {
   "cell_type": "code",
   "execution_count": null,
   "metadata": {},
   "outputs": [],
   "source": [
    "del lst_day\n",
    "del lst_night\n",
    "del dataset"
   ]
  },
  {
   "cell_type": "code",
   "execution_count": null,
   "metadata": {},
   "outputs": [],
   "source": []
  }
 ],
 "metadata": {
  "kernelspec": {
   "display_name": "Python 3",
   "language": "python",
   "name": "python3"
  },
  "language_info": {
   "codemirror_mode": {
    "name": "ipython",
    "version": 3
   },
   "file_extension": ".py",
   "mimetype": "text/x-python",
   "name": "python",
   "nbconvert_exporter": "python",
   "pygments_lexer": "ipython3",
   "version": "3.7.3"
  }
 },
 "nbformat": 4,
 "nbformat_minor": 2
}
